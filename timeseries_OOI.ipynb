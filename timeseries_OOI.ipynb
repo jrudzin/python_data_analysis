{
  "nbformat": 4,
  "nbformat_minor": 0,
  "metadata": {
    "colab": {
      "name": "timeseries_OOI.ipynb",
      "provenance": [],
      "collapsed_sections": []
    },
    "kernelspec": {
      "name": "python3",
      "display_name": "Python 3"
    }
  },
  "cells": [
    {
      "cell_type": "markdown",
      "metadata": {
        "id": "bVCjS3Xlkz-I",
        "colab_type": "text"
      },
      "source": [
        "**Let's look at sea surface temperature data from a inshore mooring from the Ocean Observatories Initiative before, during, and after the passage of Hurricane Michael**\n",
        "\n",
        "Below is a link to Michael's track. We will be focusing on the time period when Michael is undergoing extratropical transition off the coast of New England\n",
        "\n",
        "[Hurricane Michael's track](https://raw.githubusercontent.com/jrudzin/python_data_analysis/master/Hurricane_Michael_NHCtrack.PNG)\n"
      ]
    },
    {
      "cell_type": "code",
      "metadata": {
        "id": "KHlwe2HdyKCQ",
        "colab_type": "code",
        "colab": {}
      },
      "source": [
        "# First, let's import the Python libraries we will need\n",
        "import requests\n",
        "import datetime\n",
        "import matplotlib.pyplot as plt\n",
        "import json\n",
        "import pandas as pd\n",
        "\n",
        "# API Information\n",
        "USERNAME ='OOIAPI-G2GBHHAQHYQTLM'\n",
        "TOKEN= 'BSDYYV4S1W5JD4'\n",
        "API_BASE_URL = 'https://ooinet.oceanobservatories.org/api/m2m/12576/sensor/inv/'"
      ],
      "execution_count": 0,
      "outputs": []
    },
    {
      "cell_type": "code",
      "metadata": {
        "id": "nfpXunZoyRX0",
        "colab_type": "code",
        "colab": {}
      },
      "source": [
        "# Instrument Information\n",
        "site = 'CP03ISSM' \n",
        "node = 'SBD11'\n",
        "instrument = '06-METBKA000'\n",
        "method = 'telemetered'\n",
        "stream = 'metbk_a_dcl_instrument'"
      ],
      "execution_count": 0,
      "outputs": []
    },
    {
      "cell_type": "code",
      "metadata": {
        "id": "CP62KO39zUug",
        "colab_type": "code",
        "colab": {}
      },
      "source": [
        "data_request_url ='/'.join((API_BASE_URL,site,node,instrument,method,stream))\n",
        "\n",
        "params = {\n",
        "  'beginDT':'2018-10-05T00:00:00.000Z',\n",
        "  'endDT':'2018-10-25T00:00:00.000Z',\n",
        "  'limit':2000,   \n",
        "}"
      ],
      "execution_count": 0,
      "outputs": []
    },
    {
      "cell_type": "code",
      "metadata": {
        "id": "ik7BgSq70U2S",
        "colab_type": "code",
        "colab": {}
      },
      "source": [
        "# Grab the data\n",
        "r = requests.get(data_request_url, params=params, auth=(USERNAME, TOKEN))\n",
        "data = r.json()"
      ],
      "execution_count": 0,
      "outputs": []
    },
    {
      "cell_type": "code",
      "metadata": {
        "id": "Ah3fCDFs0gLL",
        "colab_type": "code",
        "colab": {}
      },
      "source": [
        "# Time Processing Routine\n",
        "ntp_epoch = datetime.datetime(1900, 1, 1)\n",
        "unix_epoch = datetime.datetime(1970, 1, 1)\n",
        "ntp_delta = (unix_epoch - ntp_epoch).total_seconds()\n",
        "\n",
        "def ntp_seconds_to_datetime(ntp_seconds):\n",
        "    return datetime.datetime.utcfromtimestamp(ntp_seconds - ntp_delta).replace(microsecond=0)"
      ],
      "execution_count": 0,
      "outputs": []
    },
    {
      "cell_type": "code",
      "metadata": {
        "id": "WUVMEhYT0njO",
        "colab_type": "code",
        "outputId": "12d0a1d3-a0ca-44e0-d909-10170b4adeb6",
        "colab": {
          "base_uri": "https://localhost:8080/",
          "height": 1000
        }
      },
      "source": [
        "data[0]"
      ],
      "execution_count": 7,
      "outputs": [
        {
          "output_type": "execute_result",
          "data": {
            "text/plain": [
              "{'air_temperature': 20.04199981689453,\n",
              " 'air_temperature_qc_executed': 29,\n",
              " 'air_temperature_qc_results': 29,\n",
              " 'barometric_pressure': 1014.8800048828125,\n",
              " 'barometric_pressure_qc_executed': 29,\n",
              " 'barometric_pressure_qc_results': 29,\n",
              " 'ct_depth': 0.98,\n",
              " 'dcl_controller_timestamp': 'empty',\n",
              " 'driver_timestamp': 3747691657.461507,\n",
              " 'eastward_wind_velocity': 1.6200000047683716,\n",
              " 'eastward_wind_velocity_qc_executed': 29,\n",
              " 'eastward_wind_velocity_qc_results': 29,\n",
              " 'ingestion_timestamp': 3747691657.6140003,\n",
              " 'internal_timestamp': 0.0,\n",
              " 'longwave_irradiance': 364.79998779296875,\n",
              " 'longwave_irradiance_qc_executed': 29,\n",
              " 'longwave_irradiance_qc_results': 29,\n",
              " 'met_barpres': 101488.0,\n",
              " 'met_barpres_qc_executed': 29,\n",
              " 'met_barpres_qc_results': 29,\n",
              " 'met_current_direction': 44.52542330467338,\n",
              " 'met_current_direction_qc_executed': 29,\n",
              " 'met_current_direction_qc_results': 29,\n",
              " 'met_current_speed': 0.10885090679754376,\n",
              " 'met_current_speed_qc_executed': 29,\n",
              " 'met_current_speed_qc_results': 29,\n",
              " 'met_heatflx_minute': nan,\n",
              " 'met_latnflx_minute': nan,\n",
              " 'met_netlirr_minute': nan,\n",
              " 'met_netsirr': 1.7009999752044678,\n",
              " 'met_netsirr_qc_executed': 29,\n",
              " 'met_netsirr_qc_results': 29,\n",
              " 'met_relwind_direction': 31.029970332133814,\n",
              " 'met_relwind_direction_qc_executed': 29,\n",
              " 'met_relwind_direction_qc_results': 29,\n",
              " 'met_relwind_speed': 2.149959348721635,\n",
              " 'met_relwind_speed_qc_executed': 29,\n",
              " 'met_relwind_speed_qc_results': 29,\n",
              " 'met_salsurf': 33.219061624005555,\n",
              " 'met_salsurf_qc_executed': 29,\n",
              " 'met_salsurf_qc_results': 29,\n",
              " 'met_sensflx_minute': nan,\n",
              " 'met_spechum': 13.158313751220703,\n",
              " 'met_spechum_qc_executed': 29,\n",
              " 'met_spechum_qc_results': 29,\n",
              " 'met_windavg_mag_corr_east': 1.1846037963742084,\n",
              " 'met_windavg_mag_corr_north': 1.919899483245124,\n",
              " 'northward_wind_velocity': 1.5700000524520874,\n",
              " 'northward_wind_velocity_qc_executed': 29,\n",
              " 'northward_wind_velocity_qc_results': 29,\n",
              " 'pk': {'deployment': 8,\n",
              "  'method': 'telemetered',\n",
              "  'node': 'SBD11',\n",
              "  'sensor': '06-METBKA000',\n",
              "  'stream': 'metbk_a_dcl_instrument',\n",
              "  'subsite': 'CP03ISSM',\n",
              "  'time': 3747686389.525},\n",
              " 'port_timestamp': 3747686389.525,\n",
              " 'precipitation': 36.75,\n",
              " 'precipitation_qc_executed': 29,\n",
              " 'precipitation_qc_results': 13,\n",
              " 'preferred_timestamp': 'port_timestamp',\n",
              " 'relative_humidity': 90.51499938964844,\n",
              " 'relative_humidity_qc_executed': 29,\n",
              " 'relative_humidity_qc_results': 29,\n",
              " 'sea_surface_conductivity': 4.517000198364258,\n",
              " 'sea_surface_conductivity_qc_executed': 29,\n",
              " 'sea_surface_conductivity_qc_results': 29,\n",
              " 'sea_surface_temperature': 19.415000915527344,\n",
              " 'sea_surface_temperature_qc_executed': 29,\n",
              " 'sea_surface_temperature_qc_results': 29,\n",
              " 'shortwave_irradiance': 1.7999999523162842,\n",
              " 'shortwave_irradiance_qc_executed': 29,\n",
              " 'shortwave_irradiance_qc_results': 29,\n",
              " 'time': 3747686389.525,\n",
              " 'velpt_ab_dcl_instrument-eastward_velocity': 0.07632905103374796,\n",
              " 'velpt_ab_dcl_instrument-northward_velocity': 0.07760409704993068}"
            ]
          },
          "metadata": {
            "tags": []
          },
          "execution_count": 7
        }
      ]
    },
    {
      "cell_type": "code",
      "metadata": {
        "id": "xfWqeNqh0sCJ",
        "colab_type": "code",
        "colab": {}
      },
      "source": [
        "# Process the data\n",
        "# First, create empty arrays to put data in"
      ],
      "execution_count": 0,
      "outputs": []
    },
    {
      "cell_type": "code",
      "metadata": {
        "id": "ZMYtFzk20vKx",
        "colab_type": "code",
        "colab": {}
      },
      "source": [
        "time = []\n",
        "temp = []\n",
        "sal = []"
      ],
      "execution_count": 0,
      "outputs": []
    },
    {
      "cell_type": "code",
      "metadata": {
        "id": "q0fzyMpkoB-n",
        "colab_type": "code",
        "colab": {}
      },
      "source": [
        "# Next put data that is read in in those arrays"
      ],
      "execution_count": 0,
      "outputs": []
    },
    {
      "cell_type": "code",
      "metadata": {
        "id": "FyJKR0Pi01tk",
        "colab_type": "code",
        "colab": {}
      },
      "source": [
        "for i in range(len(data)):\n",
        "  time.append(ntp_seconds_to_datetime(data[i]['time']))\n",
        "  temp.append(data[i]['sea_surface_temperature'])\n",
        "  sal.append(data[i]['met_salsurf'])\n"
      ],
      "execution_count": 0,
      "outputs": []
    },
    {
      "cell_type": "code",
      "metadata": {
        "id": "a2O3vAbOoE73",
        "colab_type": "code",
        "colab": {}
      },
      "source": [
        "#Now lets plot the sea surface temperature and salinity for the time before, during, and after Michael passed this mooring"
      ],
      "execution_count": 0,
      "outputs": []
    },
    {
      "cell_type": "code",
      "metadata": {
        "id": "fGLsiLsd2vKM",
        "colab_type": "code",
        "outputId": "4189d57c-914d-4d84-a448-1d30a82a02f2",
        "colab": {
          "base_uri": "https://localhost:8080/",
          "height": 281
        }
      },
      "source": [
        "fig, axs = plt.subplots(2, 1)\n",
        "axs[0].plot_date(time, temp, 'r',label='Sea Surface Temperature');\n",
        "axs[0].set_ylabel('Temperature (C)');\n",
        "axs[0].set_title('Data from %s' % (site));\n",
        "axs[0].legend(frameon=1, facecolor='w');\n",
        "#axs[0].set_xticks(rotation=50,ha='right');\n",
        "\n",
        "axs[1].plot_date(time, sal, 'b',label='Sea Surface Salinity');\n",
        "axs[1].set_ylabel('Salinity (psu)');\n",
        "axs[1].legend(frameon=1, facecolor='w');\n",
        "#axs[1].set_xticks(rotation=50,ha='right');"
      ],
      "execution_count": 36,
      "outputs": [
        {
          "output_type": "display_data",
          "data": {
            "image/png": "[encoded data removed]",
            "text/plain": [
              "<Figure size 432x288 with 2 Axes>"
            ]
          },
          "metadata": {
            "tags": []
          }
        }
      ]
    },
    {
      "cell_type": "markdown",
      "metadata": {
        "id": "ItN2qQUmoMpR",
        "colab_type": "text"
      },
      "source": [
        "Michael passed this mooring around October 12th. Notice the large peak in sea surface temperature and then it drops dramatically. Usually, storm extract energy from the ocean and cool it. It is interesting that the sea surface temperature actually increases before it does. However, this mooring in located near the shore in only 90m of water. Many complex processes could be at play here. Additionally, the cyclonic wind stress from the storm could be pushing waters from the warm Gulf Stream onto shore. This is further justified by the fact that the waters are also getting saliter at this point. The Gulf Stream is a very warm and salty watermass compared to inshore waters. This is where data analysis and critical thinking come into play to figure out the mystery! \n"
      ]
    },
    {
      "cell_type": "markdown",
      "metadata": {
        "id": "3VM9L_kwqWql",
        "colab_type": "text"
      },
      "source": [
        "Let's look at the offshore mooring for the same time period to see if there is a difference. "
      ]
    },
    {
      "cell_type": "code",
      "metadata": {
        "id": "6ZpqbDoIqhhU",
        "colab_type": "code",
        "colab": {}
      },
      "source": [
        "# Instrument Information\n",
        "site2 = 'CP04OSSM' \n",
        "node = 'SBD11'\n",
        "instrument = '06-METBKA000'\n",
        "method = 'telemetered'\n",
        "stream = 'metbk_a_dcl_instrument'"
      ],
      "execution_count": 0,
      "outputs": []
    },
    {
      "cell_type": "code",
      "metadata": {
        "id": "nxFFgq26qi8U",
        "colab_type": "code",
        "colab": {}
      },
      "source": [
        "data_request_url ='/'.join((API_BASE_URL,site2,node,instrument,method,stream))\n",
        "\n",
        "params = {\n",
        "  'beginDT':'2018-10-05T00:00:00.000Z',\n",
        "  'endDT':'2018-10-25T00:00:00.000Z',\n",
        "  'limit':2000,   \n",
        "}"
      ],
      "execution_count": 0,
      "outputs": []
    },
    {
      "cell_type": "code",
      "metadata": {
        "id": "mtYkXBOPqo4W",
        "colab_type": "code",
        "colab": {}
      },
      "source": [
        "# Grab the data\n",
        "r = requests.get(data_request_url, params=params, auth=(USERNAME, TOKEN))\n",
        "data2 = r.json()"
      ],
      "execution_count": 0,
      "outputs": []
    },
    {
      "cell_type": "code",
      "metadata": {
        "id": "KTABiQjyqqR1",
        "colab_type": "code",
        "colab": {}
      },
      "source": [
        "# Time Processing Routine\n",
        "ntp_epoch = datetime.datetime(1900, 1, 1)\n",
        "unix_epoch = datetime.datetime(1970, 1, 1)\n",
        "ntp_delta = (unix_epoch - ntp_epoch).total_seconds()\n",
        "\n",
        "def ntp_seconds_to_datetime(ntp_seconds):\n",
        "    return datetime.datetime.utcfromtimestamp(ntp_seconds - ntp_delta).replace(microsecond=0)"
      ],
      "execution_count": 0,
      "outputs": []
    },
    {
      "cell_type": "code",
      "metadata": {
        "id": "9-b1EFMaqwrd",
        "colab_type": "code",
        "outputId": "bdbf7a2f-8b32-43ba-dd48-27bd45222dd0",
        "colab": {
          "base_uri": "https://localhost:8080/",
          "height": 1000
        }
      },
      "source": [
        "data2[0]"
      ],
      "execution_count": 18,
      "outputs": [
        {
          "output_type": "execute_result",
          "data": {
            "text/plain": [
              "{'air_temperature': 21.3700008392334,\n",
              " 'air_temperature_qc_executed': 29,\n",
              " 'air_temperature_qc_results': 29,\n",
              " 'barometric_pressure': 1014.8099975585938,\n",
              " 'barometric_pressure_qc_executed': 29,\n",
              " 'barometric_pressure_qc_results': 29,\n",
              " 'ct_depth': 0.98,\n",
              " 'dcl_controller_timestamp': 'empty',\n",
              " 'driver_timestamp': 3747691674.249662,\n",
              " 'eastward_wind_velocity': 4.0,\n",
              " 'eastward_wind_velocity_qc_executed': 29,\n",
              " 'eastward_wind_velocity_qc_results': 29,\n",
              " 'ingestion_timestamp': 3747691674.3900003,\n",
              " 'internal_timestamp': 0.0,\n",
              " 'longwave_irradiance': 359.79998779296875,\n",
              " 'longwave_irradiance_qc_executed': 29,\n",
              " 'longwave_irradiance_qc_results': 29,\n",
              " 'met_barpres': 101481.0,\n",
              " 'met_barpres_qc_executed': 29,\n",
              " 'met_barpres_qc_results': 29,\n",
              " 'met_current_direction': 155.22276720152047,\n",
              " 'met_current_direction_qc_executed': 29,\n",
              " 'met_current_direction_qc_results': 29,\n",
              " 'met_current_speed': 0.1190504094911059,\n",
              " 'met_current_speed_qc_executed': 29,\n",
              " 'met_current_speed_qc_results': 29,\n",
              " 'met_heatflx_minute': nan,\n",
              " 'met_latnflx_minute': nan,\n",
              " 'met_netlirr_minute': nan,\n",
              " 'met_netsirr': 3.0239999294281006,\n",
              " 'met_netsirr_qc_executed': 29,\n",
              " 'met_netsirr_qc_results': 29,\n",
              " 'met_relwind_direction': 41.34258723254834,\n",
              " 'met_relwind_direction_qc_executed': 29,\n",
              " 'met_relwind_direction_qc_results': 29,\n",
              " 'met_relwind_speed': 4.828628606493284,\n",
              " 'met_relwind_speed_qc_executed': 29,\n",
              " 'met_relwind_speed_qc_results': 29,\n",
              " 'met_salsurf': 34.52455001884784,\n",
              " 'met_salsurf_qc_executed': 29,\n",
              " 'met_salsurf_qc_results': 29,\n",
              " 'met_sensflx_minute': nan,\n",
              " 'met_spechum': 12.09945011138916,\n",
              " 'met_spechum_qc_executed': 29,\n",
              " 'met_spechum_qc_results': 29,\n",
              " 'met_windavg_mag_corr_east': 3.239491379655348,\n",
              " 'met_windavg_mag_corr_north': 3.5171145846372838,\n",
              " 'northward_wind_velocity': 2.619999885559082,\n",
              " 'northward_wind_velocity_qc_executed': 29,\n",
              " 'northward_wind_velocity_qc_results': 29,\n",
              " 'pk': {'deployment': 8,\n",
              "  'method': 'telemetered',\n",
              "  'node': 'SBD11',\n",
              "  'sensor': '06-METBKA000',\n",
              "  'stream': 'metbk_a_dcl_instrument',\n",
              "  'subsite': 'CP04OSSM',\n",
              "  'time': 3747686376.991},\n",
              " 'port_timestamp': 3747686376.991,\n",
              " 'precipitation': 36.880001068115234,\n",
              " 'precipitation_qc_executed': 29,\n",
              " 'precipitation_qc_results': 13,\n",
              " 'preferred_timestamp': 'port_timestamp',\n",
              " 'relative_humidity': 76.73799896240234,\n",
              " 'relative_humidity_qc_executed': 29,\n",
              " 'relative_humidity_qc_results': 29,\n",
              " 'sea_surface_conductivity': 4.896299839019775,\n",
              " 'sea_surface_conductivity_qc_executed': 29,\n",
              " 'sea_surface_conductivity_qc_results': 29,\n",
              " 'sea_surface_temperature': 21.611000061035156,\n",
              " 'sea_surface_temperature_qc_executed': 29,\n",
              " 'sea_surface_temperature_qc_results': 29,\n",
              " 'shortwave_irradiance': 3.200000047683716,\n",
              " 'shortwave_irradiance_qc_executed': 29,\n",
              " 'shortwave_irradiance_qc_results': 29,\n",
              " 'time': 3747686376.991,\n",
              " 'velpt_ab_dcl_instrument-eastward_velocity': 0.049892994747826665,\n",
              " 'velpt_ab_dcl_instrument-northward_velocity': -0.10809111469077068}"
            ]
          },
          "metadata": {
            "tags": []
          },
          "execution_count": 18
        }
      ]
    },
    {
      "cell_type": "code",
      "metadata": {
        "id": "WpmyRJb3qzbn",
        "colab_type": "code",
        "colab": {}
      },
      "source": [
        "time2 = []\n",
        "temp2 = []\n",
        "sal2 = [];"
      ],
      "execution_count": 0,
      "outputs": []
    },
    {
      "cell_type": "code",
      "metadata": {
        "id": "biX8tGCcq5Z3",
        "colab_type": "code",
        "colab": {}
      },
      "source": [
        "for i in range(len(data2)):\n",
        "  time2.append(ntp_seconds_to_datetime(data2[i]['time']))\n",
        "  temp2.append(data2[i]['sea_surface_temperature'])\n",
        "  sal2.append(data2[i]['met_salsurf'])"
      ],
      "execution_count": 0,
      "outputs": []
    },
    {
      "cell_type": "code",
      "metadata": {
        "id": "QPZyvlURrH3L",
        "colab_type": "code",
        "outputId": "8c2aff29-3019-4804-eeb9-d4a97aab5557",
        "colab": {
          "base_uri": "https://localhost:8080/",
          "height": 281
        }
      },
      "source": [
        "#Plot offshore mooring SST\n",
        "fig, axs = plt.subplots(2, 1)\n",
        "axs[0].plot_date(time2, temp2, 'r',label='Sea Surface Temperature');\n",
        "axs[0].set_ylabel('Temperature (C)');\n",
        "axs[0].set_title('Data from %s' % (site2));\n",
        "axs[0].legend(frameon=1, facecolor='w');\n",
        "#axs[0].set_xticks(rotation=50,ha='right');\n",
        "tbot,ttop = axs[0].set_ylim()\n",
        "\n",
        "axs[1].plot_date(time2, sal2, 'b',label='Sea Surface Salinity');\n",
        "axs[1].set_ylabel('Salinity (psu)');\n",
        "axs[1].legend(frameon=1, facecolor='w');\n",
        "#axs[1].set_xticks(rotation=50,ha='right');\n",
        "sbot,stop = axs[1].set_ylim()\n"
      ],
      "execution_count": 49,
      "outputs": [
        {
          "output_type": "display_data",
          "data": {
            "image/png": "[encoded data removed]",
            "text/plain": [
              "<Figure size 432x288 with 2 Axes>"
            ]
          },
          "metadata": {
            "tags": []
          }
        }
      ]
    },
    {
      "cell_type": "code",
      "metadata": {
        "id": "zA1IJn0jDXES",
        "colab_type": "code",
        "colab": {
          "base_uri": "https://localhost:8080/",
          "height": 281
        },
        "outputId": "42df0d5c-699f-4766-8de6-7437df9cd4e1"
      },
      "source": [
        "#Let's plot the inshore mooring temperature again here so we can compare them \n",
        "fig, axs = plt.subplots(2, 1)\n",
        "axs[0].plot_date(time, temp, 'r',label='Sea Surface Temperature');\n",
        "axs[0].set_ylabel('Temperature (C)');\n",
        "axs[0].set_title('Data from %s' % (site));\n",
        "axs[0].legend(frameon=1, facecolor='w');\n",
        "axs[0].set_ylim(tbot,ttop);\n",
        "#axs[0].set_xticks(rotation=50,ha='right');\n",
        "\n",
        "axs[1].plot_date(time, sal, 'b',label='Sea Surface Salinity');\n",
        "axs[1].set_ylabel('Salinity (psu)');\n",
        "axs[1].legend(frameon=1, facecolor='w');\n",
        "axs[1].set_ylim(sbot,stop);\n",
        "#axs[1].set_xticks(rotation=50,ha='right');\n"
      ],
      "execution_count": 52,
      "outputs": [
        {
          "output_type": "display_data",
          "data": {
            "image/png": "[encoded data removed]",
            "text/plain": [
              "<Figure size 432x288 with 2 Axes>"
            ]
          },
          "metadata": {
            "tags": []
          }
        }
      ]
    },
    {
      "cell_type": "markdown",
      "metadata": {
        "id": "pPrv1LcGswQM",
        "colab_type": "text"
      },
      "source": [
        "Notice that the pre-storm sea surface temperature for the offshore mooring is warmer than the inshore mooring surface temperature. Also notice that the temperature a approximately the same at both locations during the time Michael passes through. However, the inshore mooring temperature cools much more quickly than the offshore mooring by October 17th. The water actually warms during around Oct 17. This warming is accompanied by an increase in salinity as well.\n",
        " "
      ]
    }
  ]
}